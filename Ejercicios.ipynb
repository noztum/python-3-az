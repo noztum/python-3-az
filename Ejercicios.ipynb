{
  "nbformat": 4,
  "nbformat_minor": 0,
  "metadata": {
    "colab": {
      "name": "Ejercicios.ipynb",
      "provenance": [],
      "authorship_tag": "ABX9TyM4qLEyZMggBqCuzLZjJ9s/",
      "include_colab_link": true
    },
    "kernelspec": {
      "name": "python3",
      "display_name": "Python 3"
    },
    "language_info": {
      "name": "python"
    }
  },
  "cells": [
    {
      "cell_type": "markdown",
      "metadata": {
        "id": "view-in-github",
        "colab_type": "text"
      },
      "source": [
        "<a href=\"https://colab.research.google.com/github/noztum/python-3-az/blob/main/Ejercicios.ipynb\" target=\"_parent\"><img src=\"https://colab.research.google.com/assets/colab-badge.svg\" alt=\"Open In Colab\"/></a>"
      ]
    },
    {
      "cell_type": "code",
      "metadata": {
        "id": "qmjST-sFq8V3"
      },
      "source": [
        "import collections\n",
        "translations = collections.OrderedDict([('en', collections.OrderedDict([('en', '1'), ('b', '2'), ('c', '3')])),\n",
        "                                       ('es', collections.OrderedDict([('en', '1'), ('b', '2'), ('c', '3')])),\n",
        "                                       ('er', collections.OrderedDict([('en', '1'), ('b', '2'), ('c', '3')]))])\n",
        "\n",
        "lang_code_available = (('en', 'English'), ('es', 'Spanish'))\n",
        "\n",
        "for lang_code in translations:\n",
        "    print(lang_code)\n",
        "\n",
        "print('---')\n",
        "\n",
        "for lang_code, _ in lang_code_available:\n",
        "    print(lang_code)\n",
        "\n",
        "# translations = {'en': OrderedDict([('value', 'values in English')]), 'es': OrderedDict([('value', 'values in Spanish Spanish')])}\n"
      ],
      "execution_count": null,
      "outputs": []
    }
  ]
}